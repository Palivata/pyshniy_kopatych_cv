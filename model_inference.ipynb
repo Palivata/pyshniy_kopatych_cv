{
 "cells": [
  {
   "cell_type": "markdown",
   "metadata": {},
   "source": [
    "Скачаем обученную модель с Google drive"
   ]
  },
  {
   "cell_type": "code",
   "execution_count": null,
   "metadata": {},
   "outputs": [],
   "source": [
    "!gdown --id 1yDUEkeqfDGaSOgKFP_1OVayCrPm91fBk -O ivision_model.zip"
   ]
  },
  {
   "cell_type": "code",
   "execution_count": 20,
   "metadata": {},
   "outputs": [],
   "source": [
    "!mkdir ivision_model"
   ]
  },
  {
   "cell_type": "code",
   "execution_count": 18,
   "metadata": {},
   "outputs": [],
   "source": [
    "import cv2\n",
    "import os\n",
    "import numpy as np\n",
    "import tensorflow as tf\n",
    "import zipfile"
   ]
  },
  {
   "cell_type": "code",
   "execution_count": 21,
   "metadata": {},
   "outputs": [],
   "source": [
    "with zipfile.ZipFile('ivision_model.zip', 'r') as zip_ref:\n",
    "    zip_ref.extractall('ivision_model')"
   ]
  },
  {
   "cell_type": "code",
   "execution_count": 88,
   "metadata": {},
   "outputs": [],
   "source": [
    "RESIZE_SHAPE = (224, 224) #размерность кадров после сжатия\n",
    "FRAME_LABEL_THR = 0.025\n",
    "CAR_ACCIDENT_THR = 0.4\n",
    "test_videos_path = 'videos/' # измените данную переменную на путь до папки с тестовым видео"
   ]
  },
  {
   "cell_type": "code",
   "execution_count": 40,
   "metadata": {},
   "outputs": [],
   "source": [
    "def preprocess_videos(data_path: str):\n",
    "    \"\"\"\n",
    "    Extracts every fifth frame from every video in data_dir \n",
    "    and reshapes it in (224, 224) format.\n",
    "    \n",
    "    Parameters\n",
    "    ==========\n",
    "    data_path: string\n",
    "    Path to folder with videos\n",
    "    \n",
    "    Returns\n",
    "    ======= \n",
    "    preprocessed_data: Dict[str -> numpy.array]\n",
    "    Mapping between video name and sampled video frames\n",
    "    \"\"\"\n",
    "    preprocessed_data = {}\n",
    "    for filename in list(os.walk(data_path))[0][2]:\n",
    "        vidcap = cv2.VideoCapture(data_path+filename)\n",
    "        count = 0\n",
    "        preprocessed_data[filename] = []\n",
    "        while True:\n",
    "            ret, frame = vidcap.read()\n",
    "            if not ret:\n",
    "                break\n",
    "            if not count % 5:\n",
    "                resized_frame = cv2.resize(frame, RESIZE_SHAPE, interpolation = cv2.INTER_AREA)\n",
    "                preprocessed_data[filename].append(resized_frame)\n",
    "            count += 1\n",
    "        preprocessed_data[filename] = np.array(preprocessed_data[filename])\n",
    "        vidcap.release()\n",
    "        print(f\"{filename} has been processed\")\n",
    "    return preprocessed_data"
   ]
  },
  {
   "cell_type": "code",
   "execution_count": 78,
   "metadata": {},
   "outputs": [
    {
     "name": "stdout",
     "output_type": "stream",
     "text": [
      "12.mp4 has been processed\n",
      "19.mp4 has been processed\n",
      "26.mp4 has been processed\n",
      "33.mp4 has been processed\n",
      "48.mp4 has been processed\n"
     ]
    }
   ],
   "source": [
    "test_data = preprocess_videos(data_path=test_videos_path)"
   ]
  },
  {
   "cell_type": "code",
   "execution_count": 22,
   "metadata": {},
   "outputs": [],
   "source": [
    "model = tf.keras.models.load_model('ivision_model/ivision_model')"
   ]
  },
  {
   "cell_type": "code",
   "execution_count": 89,
   "metadata": {},
   "outputs": [],
   "source": [
    "results = {}"
   ]
  },
  {
   "cell_type": "code",
   "execution_count": 96,
   "metadata": {},
   "outputs": [
    {
     "name": "stdout",
     "output_type": "stream",
     "text": [
      "12.mp4: Car accident\n",
      "19.mp4: No car accident\n",
      "26.mp4: No car accident\n",
      "33.mp4: Car accident\n",
      "48.mp4: No car accident\n"
     ]
    }
   ],
   "source": [
    "dtp_flag = ['No car accident', 'Car accident']\n",
    "for video_name, frames in test_data.items():\n",
    "    frame_probas = tf.keras.activations.sigmoid(model.predict(frames)).numpy()\n",
    "    frame_labels = (frame_probas > FRAME_LABEL_THR)*1\n",
    "    total_accident_frames = sum(frame_labels)\n",
    "    results[video_name] = ((total_accident_frames > CAR_ACCIDENT_THR*len(frame_labels))*1)[0]\n",
    "    print(f\"{video_name}: {dtp_flag[results[video_name]]}\")"
   ]
  }
 ],
 "metadata": {
  "kernelspec": {
   "display_name": "Python 3",
   "language": "python",
   "name": "python3"
  },
  "language_info": {
   "codemirror_mode": {
    "name": "ipython",
    "version": 3
   },
   "file_extension": ".py",
   "mimetype": "text/x-python",
   "name": "python",
   "nbconvert_exporter": "python",
   "pygments_lexer": "ipython3",
   "version": "3.7.3"
  }
 },
 "nbformat": 4,
 "nbformat_minor": 5
}
