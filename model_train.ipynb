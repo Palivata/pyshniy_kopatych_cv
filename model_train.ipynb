{
  "cells": [
    {
      "cell_type": "code",
      "execution_count": null,
      "id": "b8adc81c-d3ca-4d8f-8261-5702c75daf48",
      "metadata": {
        "id": "b8adc81c-d3ca-4d8f-8261-5702c75daf48"
      },
      "outputs": [],
      "source": [
        "import os\n",
        "import sys\n",
        "import cv2\n",
        "import subprocess\n",
        "import numpy as np\n",
        "import pandas as pd\n",
        "from tqdm import tqdm\n",
        "from functools import partial\n",
        "from collections import defaultdict\n",
        "from sklearn.model_selection import train_test_split\n",
        "\n",
        "\n",
        "import tensorflow as tf\n",
        "from tensorflow import keras\n",
        "from tensorflow.keras.models import Model\n",
        "from tensorflow.keras.activations import sigmoid\n",
        "from tensorflow.keras.preprocessing.sequence import pad_sequences\n",
        "from tensorflow.keras.applications.resnet_v2 import preprocess_input, ResNet152V2 \n",
        "from tensorflow.keras.layers import Bidirectional, TimeDistributed, GRU, Dense, Input, Layer, GlobalAveragePooling2D"
      ]
    },
    {
      "cell_type": "code",
      "source": [
        "!pip freeze > requirements.txt"
      ],
      "metadata": {
        "id": "4YYwm2Uk65MY"
      },
      "id": "4YYwm2Uk65MY",
      "execution_count": null,
      "outputs": []
    },
    {
      "cell_type": "markdown",
      "source": [
        "# Data loading"
      ],
      "metadata": {
        "id": "m4cxuAWl6VRk"
      },
      "id": "m4cxuAWl6VRk"
    },
    {
      "cell_type": "code",
      "source": [
        "from google.colab import drive\n",
        "drive.mount('/content/drive')"
      ],
      "metadata": {
        "colab": {
          "base_uri": "https://localhost:8080/"
        },
        "id": "e-3twwWPKd7Z",
        "outputId": "3086ae0a-e63c-4df9-dec7-0f20331cce4f"
      },
      "id": "e-3twwWPKd7Z",
      "execution_count": null,
      "outputs": [
        {
          "output_type": "stream",
          "name": "stdout",
          "text": [
            "Mounted at /content/drive\n"
          ]
        }
      ]
    },
    {
      "cell_type": "markdown",
      "source": [
        "Video zip"
      ],
      "metadata": {
        "id": "n5NxelfYFhj4"
      },
      "id": "n5NxelfYFhj4"
    },
    {
      "cell_type": "code",
      "source": [
        "!gdown --id 1PEjVOnLDi5RwGjhIEnaGk25Iu3sDPkz5"
      ],
      "metadata": {
        "colab": {
          "base_uri": "https://localhost:8080/"
        },
        "id": "4VihB9I90IWe",
        "outputId": "25f5edf0-a620-464c-8fd4-b8635c939d4d"
      },
      "id": "4VihB9I90IWe",
      "execution_count": null,
      "outputs": [
        {
          "output_type": "stream",
          "name": "stdout",
          "text": [
            "Downloading...\n",
            "From: https://drive.google.com/uc?id=1PEjVOnLDi5RwGjhIEnaGk25Iu3sDPkz5\n",
            "To: /content/data.zip\n",
            "100% 1.88G/1.88G [00:30<00:00, 60.6MB/s]\n"
          ]
        }
      ]
    },
    {
      "cell_type": "code",
      "source": [
        "!unzip data.zip -d /data"
      ],
      "metadata": {
        "id": "J04jGBaP2RVj"
      },
      "id": "J04jGBaP2RVj",
      "execution_count": null,
      "outputs": []
    },
    {
      "cell_type": "markdown",
      "source": [
        "Markup xlsx"
      ],
      "metadata": {
        "id": "wWW3p_SrFmHZ"
      },
      "id": "wWW3p_SrFmHZ"
    },
    {
      "cell_type": "code",
      "source": [
        "!gdown --id 1-HltfiDAX2F1nAesIjRjLXMQ_FsWsa6L -O data.xlsx"
      ],
      "metadata": {
        "colab": {
          "base_uri": "https://localhost:8080/"
        },
        "id": "8QtxldIM2HPu",
        "outputId": "b66993cf-917e-47df-d163-a614c4a3aa6a"
      },
      "id": "8QtxldIM2HPu",
      "execution_count": null,
      "outputs": [
        {
          "output_type": "stream",
          "name": "stdout",
          "text": [
            "Downloading...\n",
            "From: https://drive.google.com/uc?id=1-HltfiDAX2F1nAesIjRjLXMQ_FsWsa6L\n",
            "To: /content/data.xlsx\n",
            "\r  0% 0.00/10.0k [00:00<?, ?B/s]\r100% 10.0k/10.0k [00:00<00:00, 9.44MB/s]\n"
          ]
        }
      ]
    },
    {
      "cell_type": "code",
      "source": [
        "data = pd.read_excel('data.xlsx').set_index('File')"
      ],
      "metadata": {
        "id": "eBQeR17OyLcR"
      },
      "id": "eBQeR17OyLcR",
      "execution_count": null,
      "outputs": []
    },
    {
      "cell_type": "code",
      "source": [
        "data.head()"
      ],
      "metadata": {
        "colab": {
          "base_uri": "https://localhost:8080/",
          "height": 237
        },
        "id": "WYyUUyymuwRl",
        "outputId": "1695842b-ac96-4d0d-a6ae-b72a457a0437"
      },
      "id": "WYyUUyymuwRl",
      "execution_count": null,
      "outputs": [
        {
          "output_type": "execute_result",
          "data": {
            "text/html": [
              "\n",
              "  <div id=\"df-dce5b41a-212d-40c0-a999-7f8ca442859d\">\n",
              "    <div class=\"colab-df-container\">\n",
              "      <div>\n",
              "<style scoped>\n",
              "    .dataframe tbody tr th:only-of-type {\n",
              "        vertical-align: middle;\n",
              "    }\n",
              "\n",
              "    .dataframe tbody tr th {\n",
              "        vertical-align: top;\n",
              "    }\n",
              "\n",
              "    .dataframe thead th {\n",
              "        text-align: right;\n",
              "    }\n",
              "</style>\n",
              "<table border=\"1\" class=\"dataframe\">\n",
              "  <thead>\n",
              "    <tr style=\"text-align: right;\">\n",
              "      <th></th>\n",
              "      <th>Label</th>\n",
              "      <th>Start_</th>\n",
              "      <th>End_</th>\n",
              "      <th>Special_transport_</th>\n",
              "    </tr>\n",
              "    <tr>\n",
              "      <th>File</th>\n",
              "      <th></th>\n",
              "      <th></th>\n",
              "      <th></th>\n",
              "      <th></th>\n",
              "    </tr>\n",
              "  </thead>\n",
              "  <tbody>\n",
              "    <tr>\n",
              "      <th>1</th>\n",
              "      <td>1</td>\n",
              "      <td>00:00:06</td>\n",
              "      <td>00:00:14</td>\n",
              "      <td>1</td>\n",
              "    </tr>\n",
              "    <tr>\n",
              "      <th>2</th>\n",
              "      <td>1</td>\n",
              "      <td>00:00:00</td>\n",
              "      <td>00:00:58</td>\n",
              "      <td>1</td>\n",
              "    </tr>\n",
              "    <tr>\n",
              "      <th>3</th>\n",
              "      <td>0</td>\n",
              "      <td>00:00:00</td>\n",
              "      <td>00:00:00</td>\n",
              "      <td>0</td>\n",
              "    </tr>\n",
              "    <tr>\n",
              "      <th>4</th>\n",
              "      <td>1</td>\n",
              "      <td>00:00:03</td>\n",
              "      <td>00:00:13</td>\n",
              "      <td>0</td>\n",
              "    </tr>\n",
              "    <tr>\n",
              "      <th>5</th>\n",
              "      <td>1</td>\n",
              "      <td>00:00:02</td>\n",
              "      <td>00:00:12</td>\n",
              "      <td>1</td>\n",
              "    </tr>\n",
              "  </tbody>\n",
              "</table>\n",
              "</div>\n",
              "      <button class=\"colab-df-convert\" onclick=\"convertToInteractive('df-dce5b41a-212d-40c0-a999-7f8ca442859d')\"\n",
              "              title=\"Convert this dataframe to an interactive table.\"\n",
              "              style=\"display:none;\">\n",
              "        \n",
              "  <svg xmlns=\"http://www.w3.org/2000/svg\" height=\"24px\"viewBox=\"0 0 24 24\"\n",
              "       width=\"24px\">\n",
              "    <path d=\"M0 0h24v24H0V0z\" fill=\"none\"/>\n",
              "    <path d=\"M18.56 5.44l.94 2.06.94-2.06 2.06-.94-2.06-.94-.94-2.06-.94 2.06-2.06.94zm-11 1L8.5 8.5l.94-2.06 2.06-.94-2.06-.94L8.5 2.5l-.94 2.06-2.06.94zm10 10l.94 2.06.94-2.06 2.06-.94-2.06-.94-.94-2.06-.94 2.06-2.06.94z\"/><path d=\"M17.41 7.96l-1.37-1.37c-.4-.4-.92-.59-1.43-.59-.52 0-1.04.2-1.43.59L10.3 9.45l-7.72 7.72c-.78.78-.78 2.05 0 2.83L4 21.41c.39.39.9.59 1.41.59.51 0 1.02-.2 1.41-.59l7.78-7.78 2.81-2.81c.8-.78.8-2.07 0-2.86zM5.41 20L4 18.59l7.72-7.72 1.47 1.35L5.41 20z\"/>\n",
              "  </svg>\n",
              "      </button>\n",
              "      \n",
              "  <style>\n",
              "    .colab-df-container {\n",
              "      display:flex;\n",
              "      flex-wrap:wrap;\n",
              "      gap: 12px;\n",
              "    }\n",
              "\n",
              "    .colab-df-convert {\n",
              "      background-color: #E8F0FE;\n",
              "      border: none;\n",
              "      border-radius: 50%;\n",
              "      cursor: pointer;\n",
              "      display: none;\n",
              "      fill: #1967D2;\n",
              "      height: 32px;\n",
              "      padding: 0 0 0 0;\n",
              "      width: 32px;\n",
              "    }\n",
              "\n",
              "    .colab-df-convert:hover {\n",
              "      background-color: #E2EBFA;\n",
              "      box-shadow: 0px 1px 2px rgba(60, 64, 67, 0.3), 0px 1px 3px 1px rgba(60, 64, 67, 0.15);\n",
              "      fill: #174EA6;\n",
              "    }\n",
              "\n",
              "    [theme=dark] .colab-df-convert {\n",
              "      background-color: #3B4455;\n",
              "      fill: #D2E3FC;\n",
              "    }\n",
              "\n",
              "    [theme=dark] .colab-df-convert:hover {\n",
              "      background-color: #434B5C;\n",
              "      box-shadow: 0px 1px 3px 1px rgba(0, 0, 0, 0.15);\n",
              "      filter: drop-shadow(0px 1px 2px rgba(0, 0, 0, 0.3));\n",
              "      fill: #FFFFFF;\n",
              "    }\n",
              "  </style>\n",
              "\n",
              "      <script>\n",
              "        const buttonEl =\n",
              "          document.querySelector('#df-dce5b41a-212d-40c0-a999-7f8ca442859d button.colab-df-convert');\n",
              "        buttonEl.style.display =\n",
              "          google.colab.kernel.accessAllowed ? 'block' : 'none';\n",
              "\n",
              "        async function convertToInteractive(key) {\n",
              "          const element = document.querySelector('#df-dce5b41a-212d-40c0-a999-7f8ca442859d');\n",
              "          const dataTable =\n",
              "            await google.colab.kernel.invokeFunction('convertToInteractive',\n",
              "                                                     [key], {});\n",
              "          if (!dataTable) return;\n",
              "\n",
              "          const docLinkHtml = 'Like what you see? Visit the ' +\n",
              "            '<a target=\"_blank\" href=https://colab.research.google.com/notebooks/data_table.ipynb>data table notebook</a>'\n",
              "            + ' to learn more about interactive tables.';\n",
              "          element.innerHTML = '';\n",
              "          dataTable['output_type'] = 'display_data';\n",
              "          await google.colab.output.renderOutput(dataTable, element);\n",
              "          const docLink = document.createElement('div');\n",
              "          docLink.innerHTML = docLinkHtml;\n",
              "          element.appendChild(docLink);\n",
              "        }\n",
              "      </script>\n",
              "    </div>\n",
              "  </div>\n",
              "  "
            ],
            "text/plain": [
              "      Label    Start_      End_  Special_transport_\n",
              "File                                               \n",
              "1         1  00:00:06  00:00:14                   1\n",
              "2         1  00:00:00  00:00:58                   1\n",
              "3         0  00:00:00  00:00:00                   0\n",
              "4         1  00:00:03  00:00:13                   0\n",
              "5         1  00:00:02  00:00:12                   1"
            ]
          },
          "metadata": {},
          "execution_count": 6
        }
      ]
    },
    {
      "cell_type": "markdown",
      "source": [
        "# Video preprocessing"
      ],
      "metadata": {
        "id": "LvfW8LJx6h11"
      },
      "id": "LvfW8LJx6h11"
    },
    {
      "cell_type": "markdown",
      "source": [
        "FPS reduced due to sampling every 5th frame"
      ],
      "metadata": {
        "id": "HRamhNV3-5ts"
      },
      "id": "HRamhNV3-5ts"
    },
    {
      "cell_type": "code",
      "source": [
        "fps=6\n",
        "rs = 1"
      ],
      "metadata": {
        "id": "8M3e9tp8599R"
      },
      "id": "8M3e9tp8599R",
      "execution_count": null,
      "outputs": []
    },
    {
      "cell_type": "markdown",
      "source": [
        "Finding the frame number of the beginning of the accident using manual pre-markup"
      ],
      "metadata": {
        "id": "1F6pt3xZ_mnV"
      },
      "id": "1F6pt3xZ_mnV"
    },
    {
      "cell_type": "code",
      "source": [
        "def get_frame_from_time(x):\n",
        "  return (x.minute*60 + x.second) * fps"
      ],
      "metadata": {
        "id": "GDHJv5Bc4X2u"
      },
      "id": "GDHJv5Bc4X2u",
      "execution_count": null,
      "outputs": []
    },
    {
      "cell_type": "code",
      "source": [
        "data['Start_frame'] = data['Start_'].dropna().apply(get_frame_from_time)\n",
        "data['End_frame'] = data['End_'].dropna().apply(get_frame_from_time)"
      ],
      "metadata": {
        "id": "eQkzMZMO4RlS"
      },
      "id": "eQkzMZMO4RlS",
      "execution_count": null,
      "outputs": []
    },
    {
      "cell_type": "code",
      "execution_count": null,
      "id": "0ae97b82-3bde-43f0-9ca6-dda1ff2b0cf0",
      "metadata": {
        "id": "0ae97b82-3bde-43f0-9ca6-dda1ff2b0cf0"
      },
      "outputs": [],
      "source": [
        "train_data, val_test_data = train_test_split(data, test_size = 10, stratify = data.Label, random_state = rs)\n",
        "val_data, test_data = train_test_split(val_test_data, test_size = 5, stratify = val_test_data.Label, random_state = rs)"
      ]
    },
    {
      "cell_type": "code",
      "source": [
        "val_data"
      ],
      "metadata": {
        "colab": {
          "base_uri": "https://localhost:8080/",
          "height": 237
        },
        "id": "NC_8UC2b5oIr",
        "outputId": "bb9c9772-0686-4f22-8efb-d4643352a13c"
      },
      "id": "NC_8UC2b5oIr",
      "execution_count": null,
      "outputs": [
        {
          "output_type": "execute_result",
          "data": {
            "text/html": [
              "\n",
              "  <div id=\"df-31b68ba8-4741-4ef2-bec8-e168d72ec066\">\n",
              "    <div class=\"colab-df-container\">\n",
              "      <div>\n",
              "<style scoped>\n",
              "    .dataframe tbody tr th:only-of-type {\n",
              "        vertical-align: middle;\n",
              "    }\n",
              "\n",
              "    .dataframe tbody tr th {\n",
              "        vertical-align: top;\n",
              "    }\n",
              "\n",
              "    .dataframe thead th {\n",
              "        text-align: right;\n",
              "    }\n",
              "</style>\n",
              "<table border=\"1\" class=\"dataframe\">\n",
              "  <thead>\n",
              "    <tr style=\"text-align: right;\">\n",
              "      <th></th>\n",
              "      <th>Label</th>\n",
              "      <th>Start_</th>\n",
              "      <th>End_</th>\n",
              "      <th>Special_transport_</th>\n",
              "      <th>Start_frame</th>\n",
              "      <th>End_frame</th>\n",
              "    </tr>\n",
              "    <tr>\n",
              "      <th>File</th>\n",
              "      <th></th>\n",
              "      <th></th>\n",
              "      <th></th>\n",
              "      <th></th>\n",
              "      <th></th>\n",
              "      <th></th>\n",
              "    </tr>\n",
              "  </thead>\n",
              "  <tbody>\n",
              "    <tr>\n",
              "      <th>48</th>\n",
              "      <td>0</td>\n",
              "      <td>00:00:00</td>\n",
              "      <td>00:00:00</td>\n",
              "      <td>0</td>\n",
              "      <td>0</td>\n",
              "      <td>0</td>\n",
              "    </tr>\n",
              "    <tr>\n",
              "      <th>12</th>\n",
              "      <td>1</td>\n",
              "      <td>00:00:02</td>\n",
              "      <td>00:00:09</td>\n",
              "      <td>1</td>\n",
              "      <td>12</td>\n",
              "      <td>54</td>\n",
              "    </tr>\n",
              "    <tr>\n",
              "      <th>26</th>\n",
              "      <td>0</td>\n",
              "      <td>00:00:00</td>\n",
              "      <td>00:00:00</td>\n",
              "      <td>0</td>\n",
              "      <td>0</td>\n",
              "      <td>0</td>\n",
              "    </tr>\n",
              "    <tr>\n",
              "      <th>33</th>\n",
              "      <td>1</td>\n",
              "      <td>00:00:03</td>\n",
              "      <td>00:00:06</td>\n",
              "      <td>1</td>\n",
              "      <td>18</td>\n",
              "      <td>36</td>\n",
              "    </tr>\n",
              "    <tr>\n",
              "      <th>19</th>\n",
              "      <td>0</td>\n",
              "      <td>00:00:00</td>\n",
              "      <td>00:00:00</td>\n",
              "      <td>0</td>\n",
              "      <td>0</td>\n",
              "      <td>0</td>\n",
              "    </tr>\n",
              "  </tbody>\n",
              "</table>\n",
              "</div>\n",
              "      <button class=\"colab-df-convert\" onclick=\"convertToInteractive('df-31b68ba8-4741-4ef2-bec8-e168d72ec066')\"\n",
              "              title=\"Convert this dataframe to an interactive table.\"\n",
              "              style=\"display:none;\">\n",
              "        \n",
              "  <svg xmlns=\"http://www.w3.org/2000/svg\" height=\"24px\"viewBox=\"0 0 24 24\"\n",
              "       width=\"24px\">\n",
              "    <path d=\"M0 0h24v24H0V0z\" fill=\"none\"/>\n",
              "    <path d=\"M18.56 5.44l.94 2.06.94-2.06 2.06-.94-2.06-.94-.94-2.06-.94 2.06-2.06.94zm-11 1L8.5 8.5l.94-2.06 2.06-.94-2.06-.94L8.5 2.5l-.94 2.06-2.06.94zm10 10l.94 2.06.94-2.06 2.06-.94-2.06-.94-.94-2.06-.94 2.06-2.06.94z\"/><path d=\"M17.41 7.96l-1.37-1.37c-.4-.4-.92-.59-1.43-.59-.52 0-1.04.2-1.43.59L10.3 9.45l-7.72 7.72c-.78.78-.78 2.05 0 2.83L4 21.41c.39.39.9.59 1.41.59.51 0 1.02-.2 1.41-.59l7.78-7.78 2.81-2.81c.8-.78.8-2.07 0-2.86zM5.41 20L4 18.59l7.72-7.72 1.47 1.35L5.41 20z\"/>\n",
              "  </svg>\n",
              "      </button>\n",
              "      \n",
              "  <style>\n",
              "    .colab-df-container {\n",
              "      display:flex;\n",
              "      flex-wrap:wrap;\n",
              "      gap: 12px;\n",
              "    }\n",
              "\n",
              "    .colab-df-convert {\n",
              "      background-color: #E8F0FE;\n",
              "      border: none;\n",
              "      border-radius: 50%;\n",
              "      cursor: pointer;\n",
              "      display: none;\n",
              "      fill: #1967D2;\n",
              "      height: 32px;\n",
              "      padding: 0 0 0 0;\n",
              "      width: 32px;\n",
              "    }\n",
              "\n",
              "    .colab-df-convert:hover {\n",
              "      background-color: #E2EBFA;\n",
              "      box-shadow: 0px 1px 2px rgba(60, 64, 67, 0.3), 0px 1px 3px 1px rgba(60, 64, 67, 0.15);\n",
              "      fill: #174EA6;\n",
              "    }\n",
              "\n",
              "    [theme=dark] .colab-df-convert {\n",
              "      background-color: #3B4455;\n",
              "      fill: #D2E3FC;\n",
              "    }\n",
              "\n",
              "    [theme=dark] .colab-df-convert:hover {\n",
              "      background-color: #434B5C;\n",
              "      box-shadow: 0px 1px 3px 1px rgba(0, 0, 0, 0.15);\n",
              "      filter: drop-shadow(0px 1px 2px rgba(0, 0, 0, 0.3));\n",
              "      fill: #FFFFFF;\n",
              "    }\n",
              "  </style>\n",
              "\n",
              "      <script>\n",
              "        const buttonEl =\n",
              "          document.querySelector('#df-31b68ba8-4741-4ef2-bec8-e168d72ec066 button.colab-df-convert');\n",
              "        buttonEl.style.display =\n",
              "          google.colab.kernel.accessAllowed ? 'block' : 'none';\n",
              "\n",
              "        async function convertToInteractive(key) {\n",
              "          const element = document.querySelector('#df-31b68ba8-4741-4ef2-bec8-e168d72ec066');\n",
              "          const dataTable =\n",
              "            await google.colab.kernel.invokeFunction('convertToInteractive',\n",
              "                                                     [key], {});\n",
              "          if (!dataTable) return;\n",
              "\n",
              "          const docLinkHtml = 'Like what you see? Visit the ' +\n",
              "            '<a target=\"_blank\" href=https://colab.research.google.com/notebooks/data_table.ipynb>data table notebook</a>'\n",
              "            + ' to learn more about interactive tables.';\n",
              "          element.innerHTML = '';\n",
              "          dataTable['output_type'] = 'display_data';\n",
              "          await google.colab.output.renderOutput(dataTable, element);\n",
              "          const docLink = document.createElement('div');\n",
              "          docLink.innerHTML = docLinkHtml;\n",
              "          element.appendChild(docLink);\n",
              "        }\n",
              "      </script>\n",
              "    </div>\n",
              "  </div>\n",
              "  "
            ],
            "text/plain": [
              "      Label    Start_      End_  Special_transport_  Start_frame  End_frame\n",
              "File                                                                       \n",
              "48        0  00:00:00  00:00:00                   0            0          0\n",
              "12        1  00:00:02  00:00:09                   1           12         54\n",
              "26        0  00:00:00  00:00:00                   0            0          0\n",
              "33        1  00:00:03  00:00:06                   1           18         36\n",
              "19        0  00:00:00  00:00:00                   0            0          0"
            ]
          },
          "metadata": {},
          "execution_count": 277
        }
      ]
    },
    {
      "cell_type": "code",
      "source": [
        "test_data"
      ],
      "metadata": {
        "colab": {
          "base_uri": "https://localhost:8080/",
          "height": 237
        },
        "id": "IktwJgekZrHm",
        "outputId": "578d9d38-e091-46cf-a8bc-d09b1e38e35b"
      },
      "id": "IktwJgekZrHm",
      "execution_count": null,
      "outputs": [
        {
          "output_type": "execute_result",
          "data": {
            "text/html": [
              "\n",
              "  <div id=\"df-67f2f67f-e88a-49ee-bee4-69ef75ef7a41\">\n",
              "    <div class=\"colab-df-container\">\n",
              "      <div>\n",
              "<style scoped>\n",
              "    .dataframe tbody tr th:only-of-type {\n",
              "        vertical-align: middle;\n",
              "    }\n",
              "\n",
              "    .dataframe tbody tr th {\n",
              "        vertical-align: top;\n",
              "    }\n",
              "\n",
              "    .dataframe thead th {\n",
              "        text-align: right;\n",
              "    }\n",
              "</style>\n",
              "<table border=\"1\" class=\"dataframe\">\n",
              "  <thead>\n",
              "    <tr style=\"text-align: right;\">\n",
              "      <th></th>\n",
              "      <th>Label</th>\n",
              "      <th>Start_</th>\n",
              "      <th>End_</th>\n",
              "      <th>Special_transport_</th>\n",
              "      <th>Start_frame</th>\n",
              "      <th>End_frame</th>\n",
              "    </tr>\n",
              "    <tr>\n",
              "      <th>File</th>\n",
              "      <th></th>\n",
              "      <th></th>\n",
              "      <th></th>\n",
              "      <th></th>\n",
              "      <th></th>\n",
              "      <th></th>\n",
              "    </tr>\n",
              "  </thead>\n",
              "  <tbody>\n",
              "    <tr>\n",
              "      <th>1</th>\n",
              "      <td>1</td>\n",
              "      <td>00:00:06</td>\n",
              "      <td>00:00:14</td>\n",
              "      <td>1</td>\n",
              "      <td>36</td>\n",
              "      <td>84</td>\n",
              "    </tr>\n",
              "    <tr>\n",
              "      <th>29</th>\n",
              "      <td>0</td>\n",
              "      <td>00:00:00</td>\n",
              "      <td>00:00:00</td>\n",
              "      <td>0</td>\n",
              "      <td>0</td>\n",
              "      <td>0</td>\n",
              "    </tr>\n",
              "    <tr>\n",
              "      <th>25</th>\n",
              "      <td>0</td>\n",
              "      <td>00:00:00</td>\n",
              "      <td>00:00:00</td>\n",
              "      <td>0</td>\n",
              "      <td>0</td>\n",
              "      <td>0</td>\n",
              "    </tr>\n",
              "    <tr>\n",
              "      <th>30</th>\n",
              "      <td>0</td>\n",
              "      <td>00:00:00</td>\n",
              "      <td>00:00:00</td>\n",
              "      <td>0</td>\n",
              "      <td>0</td>\n",
              "      <td>0</td>\n",
              "    </tr>\n",
              "    <tr>\n",
              "      <th>7</th>\n",
              "      <td>1</td>\n",
              "      <td>00:00:07</td>\n",
              "      <td>00:00:10</td>\n",
              "      <td>1</td>\n",
              "      <td>42</td>\n",
              "      <td>60</td>\n",
              "    </tr>\n",
              "  </tbody>\n",
              "</table>\n",
              "</div>\n",
              "      <button class=\"colab-df-convert\" onclick=\"convertToInteractive('df-67f2f67f-e88a-49ee-bee4-69ef75ef7a41')\"\n",
              "              title=\"Convert this dataframe to an interactive table.\"\n",
              "              style=\"display:none;\">\n",
              "        \n",
              "  <svg xmlns=\"http://www.w3.org/2000/svg\" height=\"24px\"viewBox=\"0 0 24 24\"\n",
              "       width=\"24px\">\n",
              "    <path d=\"M0 0h24v24H0V0z\" fill=\"none\"/>\n",
              "    <path d=\"M18.56 5.44l.94 2.06.94-2.06 2.06-.94-2.06-.94-.94-2.06-.94 2.06-2.06.94zm-11 1L8.5 8.5l.94-2.06 2.06-.94-2.06-.94L8.5 2.5l-.94 2.06-2.06.94zm10 10l.94 2.06.94-2.06 2.06-.94-2.06-.94-.94-2.06-.94 2.06-2.06.94z\"/><path d=\"M17.41 7.96l-1.37-1.37c-.4-.4-.92-.59-1.43-.59-.52 0-1.04.2-1.43.59L10.3 9.45l-7.72 7.72c-.78.78-.78 2.05 0 2.83L4 21.41c.39.39.9.59 1.41.59.51 0 1.02-.2 1.41-.59l7.78-7.78 2.81-2.81c.8-.78.8-2.07 0-2.86zM5.41 20L4 18.59l7.72-7.72 1.47 1.35L5.41 20z\"/>\n",
              "  </svg>\n",
              "      </button>\n",
              "      \n",
              "  <style>\n",
              "    .colab-df-container {\n",
              "      display:flex;\n",
              "      flex-wrap:wrap;\n",
              "      gap: 12px;\n",
              "    }\n",
              "\n",
              "    .colab-df-convert {\n",
              "      background-color: #E8F0FE;\n",
              "      border: none;\n",
              "      border-radius: 50%;\n",
              "      cursor: pointer;\n",
              "      display: none;\n",
              "      fill: #1967D2;\n",
              "      height: 32px;\n",
              "      padding: 0 0 0 0;\n",
              "      width: 32px;\n",
              "    }\n",
              "\n",
              "    .colab-df-convert:hover {\n",
              "      background-color: #E2EBFA;\n",
              "      box-shadow: 0px 1px 2px rgba(60, 64, 67, 0.3), 0px 1px 3px 1px rgba(60, 64, 67, 0.15);\n",
              "      fill: #174EA6;\n",
              "    }\n",
              "\n",
              "    [theme=dark] .colab-df-convert {\n",
              "      background-color: #3B4455;\n",
              "      fill: #D2E3FC;\n",
              "    }\n",
              "\n",
              "    [theme=dark] .colab-df-convert:hover {\n",
              "      background-color: #434B5C;\n",
              "      box-shadow: 0px 1px 3px 1px rgba(0, 0, 0, 0.15);\n",
              "      filter: drop-shadow(0px 1px 2px rgba(0, 0, 0, 0.3));\n",
              "      fill: #FFFFFF;\n",
              "    }\n",
              "  </style>\n",
              "\n",
              "      <script>\n",
              "        const buttonEl =\n",
              "          document.querySelector('#df-67f2f67f-e88a-49ee-bee4-69ef75ef7a41 button.colab-df-convert');\n",
              "        buttonEl.style.display =\n",
              "          google.colab.kernel.accessAllowed ? 'block' : 'none';\n",
              "\n",
              "        async function convertToInteractive(key) {\n",
              "          const element = document.querySelector('#df-67f2f67f-e88a-49ee-bee4-69ef75ef7a41');\n",
              "          const dataTable =\n",
              "            await google.colab.kernel.invokeFunction('convertToInteractive',\n",
              "                                                     [key], {});\n",
              "          if (!dataTable) return;\n",
              "\n",
              "          const docLinkHtml = 'Like what you see? Visit the ' +\n",
              "            '<a target=\"_blank\" href=https://colab.research.google.com/notebooks/data_table.ipynb>data table notebook</a>'\n",
              "            + ' to learn more about interactive tables.';\n",
              "          element.innerHTML = '';\n",
              "          dataTable['output_type'] = 'display_data';\n",
              "          await google.colab.output.renderOutput(dataTable, element);\n",
              "          const docLink = document.createElement('div');\n",
              "          docLink.innerHTML = docLinkHtml;\n",
              "          element.appendChild(docLink);\n",
              "        }\n",
              "      </script>\n",
              "    </div>\n",
              "  </div>\n",
              "  "
            ],
            "text/plain": [
              "      Label    Start_      End_  Special_transport_  Start_frame  End_frame\n",
              "File                                                                       \n",
              "1         1  00:00:06  00:00:14                   1           36         84\n",
              "29        0  00:00:00  00:00:00                   0            0          0\n",
              "25        0  00:00:00  00:00:00                   0            0          0\n",
              "30        0  00:00:00  00:00:00                   0            0          0\n",
              "7         1  00:00:07  00:00:10                   1           42         60"
            ]
          },
          "metadata": {},
          "execution_count": 78
        }
      ]
    },
    {
      "cell_type": "markdown",
      "source": [
        "Videos are split into frames, frames are resizing to 224x224 (default ResNet values)"
      ],
      "metadata": {
        "id": "gT2rWoQaAK2j"
      },
      "id": "gT2rWoQaAK2j"
    },
    {
      "cell_type": "code",
      "execution_count": null,
      "id": "7b7a6c86-6262-479e-a86a-9003db5f0eea",
      "metadata": {
        "id": "7b7a6c86-6262-479e-a86a-9003db5f0eea"
      },
      "outputs": [],
      "source": [
        "X_train, y_train, train_frame_name = [], [], []\n",
        "X_val, y_val, val_frame_name = [], [], []"
      ]
    },
    {
      "cell_type": "code",
      "execution_count": null,
      "id": "f28a944d-fca1-4568-be02-92121321422f",
      "metadata": {
        "id": "f28a944d-fca1-4568-be02-92121321422f"
      },
      "outputs": [],
      "source": [
        "def preprocess_videos(resize_shape = (224, 224), data_dir = '/data/'):\n",
        "    for filename in list(os.walk(data_dir))[0][2]:\n",
        "        vidcap = cv2.VideoCapture(data_dir+filename)\n",
        "        int_filename = int(filename.split('.')[0])\n",
        "        if int_filename in train_data.index:\n",
        "            target_data, frame_name_data, target_y  = X_train, train_frame_name, y_train\n",
        "            y_target = train_data.loc[int_filename]\n",
        "        elif int_filename in val_data.index:\n",
        "            target_data, frame_name_data, target_y = X_val, val_frame_name, y_val\n",
        "            y_target = val_data.loc[int_filename]\n",
        "        else:\n",
        "            continue\n",
        "        count = 0\n",
        "        while True:\n",
        "            ret, frame = vidcap.read()\n",
        "            if not ret:\n",
        "                break\n",
        "            if not count % 5:\n",
        "                resized_frame = cv2.resize(frame, resize_shape, interpolation = cv2.INTER_AREA)\n",
        "                target_data.append(resized_frame)\n",
        "                frame_name_data.append(f'{int_filename}_{count}')\n",
        "                if count >= y_target['Start_frame'] and y_target['Label'] == 1:\n",
        "                  target_y.append(1)\n",
        "                else:\n",
        "                  target_y.append(0)\n",
        "\n",
        "            count += 1\n",
        "        vidcap.release()\n",
        "        target_data[-1] = np.array(target_data[-1])\n",
        "        \n",
        "        print(f\"{filename} has been processed\")"
      ]
    },
    {
      "cell_type": "code",
      "execution_count": null,
      "id": "827d58cd-4546-452d-b1f7-d187fe4c97d6",
      "metadata": {
        "id": "827d58cd-4546-452d-b1f7-d187fe4c97d6",
        "outputId": "378a4f0e-1fa1-466e-bf8f-b02df15b1209",
        "colab": {
          "base_uri": "https://localhost:8080/"
        }
      },
      "outputs": [
        {
          "output_type": "stream",
          "name": "stdout",
          "text": [
            "33.mp4 has been processed\n",
            "28.mp4 has been processed\n",
            "11.mp4 has been processed\n",
            "34.mp4 has been processed\n",
            "13.mp4 has been processed\n",
            "20.mp4 has been processed\n",
            "43.mp4 has been processed\n",
            "12.mp4 has been processed\n",
            "21.mp4 has been processed\n",
            "23.mp4 has been processed\n",
            "15.mp4 has been processed\n",
            "44.mp4 has been processed\n",
            "39.mp4 has been processed\n",
            "37.mp4 has been processed\n",
            "31.mp4 has been processed\n",
            "36.mp4 has been processed\n",
            "40.mp4 has been processed\n",
            "5.mp4 has been processed\n",
            "16.mp4 has been processed\n",
            "35.mp4 has been processed\n",
            "41.mp4 has been processed\n",
            "17.mp4 has been processed\n",
            "49.mp4 has been processed\n",
            "32.mp4 has been processed\n",
            "10.mp4 has been processed\n",
            "9.mp4 has been processed\n",
            "47.mp4 has been processed\n",
            "45.mp4 has been processed\n",
            "2.mp4 has been processed\n",
            "8.mp4 has been processed\n",
            "38.mp4 has been processed\n",
            "42.mp4 has been processed\n",
            "19.mp4 has been processed\n",
            "18.mp4 has been processed\n",
            "4.mp4 has been processed\n",
            "50.mp4 has been processed\n",
            "24.mp4 has been processed\n",
            "48.mp4 has been processed\n",
            "46.mp4 has been processed\n",
            "22.mp4 has been processed\n",
            "3.mp4 has been processed\n",
            "6.mp4 has been processed\n",
            "26.mp4 has been processed\n",
            "27.mp4 has been processed\n",
            "14.mp4 has been processed\n"
          ]
        }
      ],
      "source": [
        "preprocess_videos()"
      ]
    },
    {
      "cell_type": "code",
      "source": [
        "X_train, y_train, train_frame_name = np.array(X_train), np.array(y_train), np.array(train_frame_name)\n",
        "X_val, y_val, val_frame_name = np.array(X_val), np.array(y_val), np.array(val_frame_name)"
      ],
      "metadata": {
        "id": "Xr6YsVQM7Q_Z"
      },
      "id": "Xr6YsVQM7Q_Z",
      "execution_count": null,
      "outputs": []
    },
    {
      "cell_type": "markdown",
      "source": [
        "Frame classes are balanced"
      ],
      "metadata": {
        "id": "i9ewYrjmAoHU"
      },
      "id": "i9ewYrjmAoHU"
    },
    {
      "cell_type": "code",
      "source": [
        "np.bincount(y_train)"
      ],
      "metadata": {
        "colab": {
          "base_uri": "https://localhost:8080/"
        },
        "id": "seMWIWP5XRiD",
        "outputId": "fd0dac8e-0e14-44f9-9c0e-dabe0cddcc8c"
      },
      "id": "seMWIWP5XRiD",
      "execution_count": null,
      "outputs": [
        {
          "output_type": "execute_result",
          "data": {
            "text/plain": [
              "array([3870, 3949])"
            ]
          },
          "metadata": {},
          "execution_count": 75
        }
      ]
    },
    {
      "cell_type": "markdown",
      "source": [
        "Data for model validation"
      ],
      "metadata": {
        "id": "3VQyh-EKF5cJ"
      },
      "id": "3VQyh-EKF5cJ"
    },
    {
      "cell_type": "code",
      "source": [
        "print(X_train.shape, train_frame_name.shape, y_train.shape)\n",
        "print(X_val.shape, val_frame_name.shape, y_val.shape)"
      ],
      "metadata": {
        "colab": {
          "base_uri": "https://localhost:8080/"
        },
        "id": "uzW7tiaY7uNL",
        "outputId": "ab86e699-8f13-4d82-f9c2-b3bf67156979"
      },
      "id": "uzW7tiaY7uNL",
      "execution_count": null,
      "outputs": [
        {
          "output_type": "stream",
          "name": "stdout",
          "text": [
            "(7819, 224, 224, 3) (7819,) (7819,)\n",
            "(1035, 224, 224, 3) (1035,) (1035,)\n"
          ]
        }
      ]
    },
    {
      "cell_type": "markdown",
      "source": [
        "# Model initialization"
      ],
      "metadata": {
        "id": "Q-g5roY36uKa"
      },
      "id": "Q-g5roY36uKa"
    },
    {
      "cell_type": "markdown",
      "source": [
        "The model is based on a pre-trained ResNet network with not trainable weights"
      ],
      "metadata": {
        "id": "ocbvzYLJBS9x"
      },
      "id": "ocbvzYLJBS9x"
    },
    {
      "cell_type": "code",
      "execution_count": null,
      "id": "0d6f5b96",
      "metadata": {
        "id": "0d6f5b96"
      },
      "outputs": [],
      "source": [
        "class PreprocessLayer(Layer):\n",
        "    def __init__(self):\n",
        "        super(PreprocessLayer, self).__init__()\n",
        "    def call(self, x):\n",
        "        out = preprocess_input(x)\n",
        "        return out"
      ]
    },
    {
      "cell_type": "code",
      "execution_count": null,
      "id": "a441f34b-b77f-4304-881a-3492d7711202",
      "metadata": {
        "id": "a441f34b-b77f-4304-881a-3492d7711202"
      },
      "outputs": [],
      "source": [
        "base_model = ResNet152V2(weights='imagenet', include_top=False, pooling='avg')"
      ]
    },
    {
      "cell_type": "code",
      "execution_count": null,
      "id": "e02703ea-6614-4d48-ae1b-7f14e2bb7bc2",
      "metadata": {
        "id": "e02703ea-6614-4d48-ae1b-7f14e2bb7bc2"
      },
      "outputs": [],
      "source": [
        "for layer in base_model.layers:\n",
        "    layer.trainable = False"
      ]
    },
    {
      "cell_type": "code",
      "source": [
        "tf.random.set_seed(rs)"
      ],
      "metadata": {
        "id": "MYCsOqQiRrB6"
      },
      "id": "MYCsOqQiRrB6",
      "execution_count": null,
      "outputs": []
    },
    {
      "cell_type": "markdown",
      "source": [
        "Added PreprocessLayer and Dense layer to the ResNet model"
      ],
      "metadata": {
        "id": "2HUDbuUzBa3X"
      },
      "id": "2HUDbuUzBa3X"
    },
    {
      "cell_type": "code",
      "execution_count": null,
      "id": "f14592d1-700a-466c-8bb9-11d96baf39ca",
      "metadata": {
        "id": "f14592d1-700a-466c-8bb9-11d96baf39ca"
      },
      "outputs": [],
      "source": [
        "inp = Input(shape = (224, 224, 3))\n",
        "preprocessed = PreprocessLayer()(inp)\n",
        "resnet = base_model(preprocessed, training=False)\n",
        "x = Dense(100, activation='relu')(resnet)\n",
        "output = Dense(1)(x)"
      ]
    },
    {
      "cell_type": "code",
      "execution_count": null,
      "id": "5b0b0269-e96d-4fd7-ab3c-b2fb884c7b1f",
      "metadata": {
        "id": "5b0b0269-e96d-4fd7-ab3c-b2fb884c7b1f"
      },
      "outputs": [],
      "source": [
        "model = Model(inputs=inp, outputs=output)"
      ]
    },
    {
      "cell_type": "code",
      "execution_count": null,
      "id": "0b379512-a876-47e6-a688-743229e8939a",
      "metadata": {
        "id": "0b379512-a876-47e6-a688-743229e8939a"
      },
      "outputs": [],
      "source": [
        "model.compile(optimizer='adam', loss=tf.keras.losses.BinaryCrossentropy(from_logits=True), metrics=['accuracy'])"
      ]
    },
    {
      "cell_type": "code",
      "execution_count": null,
      "id": "443e874a-d143-4f39-b245-e67b776714fe",
      "metadata": {
        "id": "443e874a-d143-4f39-b245-e67b776714fe",
        "outputId": "c441fcc9-5463-475f-f9a6-4cb26aff242f",
        "colab": {
          "base_uri": "https://localhost:8080/"
        }
      },
      "outputs": [
        {
          "output_type": "stream",
          "name": "stdout",
          "text": [
            "Model: \"model_5\"\n",
            "_________________________________________________________________\n",
            " Layer (type)                Output Shape              Param #   \n",
            "=================================================================\n",
            " input_11 (InputLayer)       [(None, 224, 224, 3)]     0         \n",
            "                                                                 \n",
            " preprocess_layer_5 (Preproc  (None, 224, 224, 3)      0         \n",
            " essLayer)                                                       \n",
            "                                                                 \n",
            " resnet152v2 (Functional)    (None, 2048)              58331648  \n",
            "                                                                 \n",
            " dense_8 (Dense)             (None, 100)               204900    \n",
            "                                                                 \n",
            " dense_9 (Dense)             (None, 1)                 101       \n",
            "                                                                 \n",
            "=================================================================\n",
            "Total params: 58,536,649\n",
            "Trainable params: 205,001\n",
            "Non-trainable params: 58,331,648\n",
            "_________________________________________________________________\n"
          ]
        }
      ],
      "source": [
        "model.summary()"
      ]
    },
    {
      "cell_type": "markdown",
      "source": [
        "# Model training"
      ],
      "metadata": {
        "id": "1v39KBhDDM7V"
      },
      "id": "1v39KBhDDM7V"
    },
    {
      "cell_type": "code",
      "execution_count": null,
      "id": "452a5abf-ec56-432d-86fe-9e9ad01f1b34",
      "metadata": {
        "id": "452a5abf-ec56-432d-86fe-9e9ad01f1b34",
        "outputId": "89490e24-0b64-4c8b-dca6-a0560aaef0d5",
        "colab": {
          "base_uri": "https://localhost:8080/"
        }
      },
      "outputs": [
        {
          "output_type": "stream",
          "name": "stdout",
          "text": [
            "Epoch 1/4\n",
            "62/62 [==============================] - 138s 2s/step - loss: 0.1580 - accuracy: 0.9343 - val_loss: 0.8595 - val_accuracy: 0.5923\n",
            "Epoch 2/4\n",
            "62/62 [==============================] - 124s 2s/step - loss: 0.0336 - accuracy: 0.9903 - val_loss: 0.8404 - val_accuracy: 0.6367\n",
            "Epoch 3/4\n",
            "62/62 [==============================] - 124s 2s/step - loss: 0.0280 - accuracy: 0.9914 - val_loss: 0.9644 - val_accuracy: 0.6454\n",
            "Epoch 4/4\n",
            "62/62 [==============================] - 124s 2s/step - loss: 0.0215 - accuracy: 0.9923 - val_loss: 0.7135 - val_accuracy: 0.7314\n"
          ]
        },
        {
          "output_type": "execute_result",
          "data": {
            "text/plain": [
              "<keras.callbacks.History at 0x7f8440b42c50>"
            ]
          },
          "metadata": {},
          "execution_count": 69
        }
      ],
      "source": [
        "model.fit(x=X_train, y=y_train, epochs=4, validation_data=(X_val, y_val), batch_size=128)"
      ]
    },
    {
      "cell_type": "code",
      "execution_count": null,
      "id": "40650134-2dcc-430d-b6a2-e203cca863ca",
      "metadata": {
        "id": "40650134-2dcc-430d-b6a2-e203cca863ca",
        "colab": {
          "base_uri": "https://localhost:8080/"
        },
        "outputId": "8012bdae-0ae0-4fbb-cb41-deafa396cfd3"
      },
      "outputs": [
        {
          "output_type": "stream",
          "name": "stdout",
          "text": [
            "INFO:tensorflow:Assets written to: /content/drive/MyDrive/ivision_model/assets\n"
          ]
        },
        {
          "output_type": "stream",
          "name": "stderr",
          "text": [
            "/usr/local/lib/python3.7/dist-packages/keras/engine/functional.py:1410: CustomMaskWarning: Custom mask layers require a config and must override get_config. When loading, the custom mask layer must be passed to the custom_objects argument.\n",
            "  layer_config = serialize_layer_fn(layer)\n",
            "/usr/local/lib/python3.7/dist-packages/keras/saving/saved_model/layer_serialization.py:112: CustomMaskWarning: Custom mask layers require a config and must override get_config. When loading, the custom mask layer must be passed to the custom_objects argument.\n",
            "  return generic_utils.serialize_keras_object(obj)\n"
          ]
        }
      ],
      "source": [
        "model.save(\"/content/drive/MyDrive/ivision_model/\")"
      ]
    },
    {
      "cell_type": "code",
      "source": [
        "model_1 = keras.models.load_model('/content/drive/MyDrive/ivision_model')\n",
        "model_1.summary()"
      ],
      "metadata": {
        "id": "B-6utdJcYqAL",
        "colab": {
          "base_uri": "https://localhost:8080/"
        },
        "outputId": "452bc09d-75a9-4c7c-94f8-7da96099644f"
      },
      "id": "B-6utdJcYqAL",
      "execution_count": null,
      "outputs": [
        {
          "output_type": "stream",
          "name": "stdout",
          "text": [
            "Model: \"model_5\"\n",
            "_________________________________________________________________\n",
            " Layer (type)                Output Shape              Param #   \n",
            "=================================================================\n",
            " input_11 (InputLayer)       [(None, 224, 224, 3)]     0         \n",
            "                                                                 \n",
            " preprocess_layer_5 (Preproc  (None, 224, 224, 3)      0         \n",
            " essLayer)                                                       \n",
            "                                                                 \n",
            " resnet152v2 (Functional)    (None, 2048)              58331648  \n",
            "                                                                 \n",
            " dense_8 (Dense)             (None, 100)               204900    \n",
            "                                                                 \n",
            " dense_9 (Dense)             (None, 1)                 101       \n",
            "                                                                 \n",
            "=================================================================\n",
            "Total params: 58,536,649\n",
            "Trainable params: 205,001\n",
            "Non-trainable params: 58,331,648\n",
            "_________________________________________________________________\n"
          ]
        }
      ]
    },
    {
      "cell_type": "markdown",
      "source": [
        "# Predictions and evaluation"
      ],
      "metadata": {
        "id": "PWFDIYY47Ka8"
      },
      "id": "PWFDIYY47Ka8"
    },
    {
      "cell_type": "markdown",
      "source": [
        "Using ROC curve to determine classification threshold"
      ],
      "metadata": {
        "id": "oO3WWUFrDUPU"
      },
      "id": "oO3WWUFrDUPU"
    },
    {
      "cell_type": "code",
      "source": [
        "predictions = model_1.predict(X_train)"
      ],
      "metadata": {
        "id": "yVNYIcTraCDE"
      },
      "id": "yVNYIcTraCDE",
      "execution_count": null,
      "outputs": []
    },
    {
      "cell_type": "code",
      "execution_count": null,
      "id": "3e0d48e8-75b2-4a3c-9a9b-5dce14ba7ec2",
      "metadata": {
        "id": "3e0d48e8-75b2-4a3c-9a9b-5dce14ba7ec2"
      },
      "outputs": [],
      "source": [
        "predictions_sg = predictions"
      ]
    },
    {
      "cell_type": "code",
      "source": [
        "predictions_val = np.array(sigmoid(model_1.predict(X_val)))"
      ],
      "metadata": {
        "id": "WaqaprxOaMys"
      },
      "id": "WaqaprxOaMys",
      "execution_count": null,
      "outputs": []
    },
    {
      "cell_type": "code",
      "source": [
        "from sklearn.metrics import roc_auc_score, roc_curve, auc, accuracy_score\n",
        "import matplotlib.pyplot as plt"
      ],
      "metadata": {
        "id": "jJr-KFJedw1F"
      },
      "id": "jJr-KFJedw1F",
      "execution_count": null,
      "outputs": []
    },
    {
      "cell_type": "code",
      "source": [
        "for i in range(1):\n",
        "    fpr, tpr, thresholds = roc_curve(y_val, predictions_val)\n",
        "    roc_auc = auc(fpr, tpr)"
      ],
      "metadata": {
        "id": "gb1V9ItHeyVr"
      },
      "id": "gb1V9ItHeyVr",
      "execution_count": null,
      "outputs": []
    },
    {
      "cell_type": "code",
      "source": [
        "plt.figure()\n",
        "lw = 2\n",
        "plt.plot(\n",
        "    fpr,\n",
        "    tpr,\n",
        "    color=\"darkorange\",\n",
        "    lw=lw,\n",
        "    label=\"ROC curve (area = %0.2f)\" % roc_auc,\n",
        ")\n",
        "plt.plot([0, 1], [0, 1], color=\"navy\", lw=lw, linestyle=\"--\")\n",
        "plt.xlim([0.0, 1.0])\n",
        "plt.ylim([0.0, 1.05])\n",
        "plt.xlabel(\"False Positive Rate\")\n",
        "plt.ylabel(\"True Positive Rate\")\n",
        "plt.title(\"Receiver operating characteristic example\")\n",
        "plt.legend(loc=\"lower right\")\n",
        "plt.show()"
      ],
      "metadata": {
        "colab": {
          "base_uri": "https://localhost:8080/",
          "height": 294
        },
        "id": "LP26NsQdfPLj",
        "outputId": "77fd59e6-54d3-4990-b14b-c480bfb3d442"
      },
      "id": "LP26NsQdfPLj",
      "execution_count": null,
      "outputs": [
        {
          "output_type": "display_data",
          "data": {
            "image/png": "[encoded data removed]",
            "text/plain": [
              "<Figure size 432x288 with 1 Axes>"
            ]
          },
          "metadata": {
            "needs_background": "light"
          }
        }
      ]
    },
    {
      "cell_type": "code",
      "source": [
        "optimal_idx = np.argmin(np.sqrt((1-tpr)**2 + fpr**2))\n",
        "optimal_threshold = thresholds[optimal_idx]\n",
        "print(\"Threshold value is:\", optimal_threshold)"
      ],
      "metadata": {
        "colab": {
          "base_uri": "https://localhost:8080/"
        },
        "id": "Je63fwGiloGP",
        "outputId": "b55ff0e9-320e-4af8-ce97-b86eb16a2c85"
      },
      "id": "Je63fwGiloGP",
      "execution_count": null,
      "outputs": [
        {
          "output_type": "stream",
          "name": "stdout",
          "text": [
            "Threshold value is: 0.025292108\n"
          ]
        }
      ]
    },
    {
      "cell_type": "code",
      "source": [
        "predictions_train = np.array(sigmoid(predictions))\n",
        "predictions_train[predictions_train > optimal_threshold] = 1\n",
        "predictions_train[predictions_train <= optimal_threshold] = 0"
      ],
      "metadata": {
        "id": "YEhcOTDswIlB"
      },
      "id": "YEhcOTDswIlB",
      "execution_count": null,
      "outputs": []
    },
    {
      "cell_type": "code",
      "source": [
        "predictions_val[predictions_val > optimal_threshold] = 1\n",
        "predictions_val[predictions_val <= optimal_threshold] = 0"
      ],
      "metadata": {
        "id": "mtZ91n6BdNbQ"
      },
      "id": "mtZ91n6BdNbQ",
      "execution_count": null,
      "outputs": []
    },
    {
      "cell_type": "code",
      "source": [
        "print(f'Validation accuracy score {accuracy_score(y_val, predictions_val)}')"
      ],
      "metadata": {
        "colab": {
          "base_uri": "https://localhost:8080/"
        },
        "id": "sQISk5JNoKg_",
        "outputId": "ce5df184-d2e2-47db-a2d6-7f215b476c22"
      },
      "id": "sQISk5JNoKg_",
      "execution_count": null,
      "outputs": [
        {
          "output_type": "stream",
          "name": "stdout",
          "text": [
            "Validation accuracy score 0.8927536231884058\n"
          ]
        }
      ]
    },
    {
      "cell_type": "markdown",
      "source": [
        "Frames labels and video labels matching"
      ],
      "metadata": {
        "id": "a0-fpNn1Em9W"
      },
      "id": "a0-fpNn1Em9W"
    },
    {
      "cell_type": "code",
      "source": [
        "val_pred_frame = defaultdict(list)\n",
        "val_pred_frame_true = defaultdict(list)\n",
        "for pred, name, y in zip(predictions_val, val_frame_name, y_val):\n",
        "  val_pred_frame[name.split('_')[0]].append(pred[0])\n",
        "  val_pred_frame_true[name.split('_')[0]].append(y)"
      ],
      "metadata": {
        "id": "oYn3N6N3px7X"
      },
      "id": "oYn3N6N3px7X",
      "execution_count": null,
      "outputs": []
    },
    {
      "cell_type": "code",
      "source": [
        "train_pred_frame = defaultdict(list)\n",
        "train_pred_frame_true = defaultdict(list)\n",
        "for pred, name, y in zip(predictions_train, train_frame_name, y_train):\n",
        "  train_pred_frame[name.split('_')[0]].append(pred[0])\n",
        "  train_pred_frame_true[name.split('_')[0]].append(y)"
      ],
      "metadata": {
        "id": "A9h7Nhxcvy3x"
      },
      "id": "A9h7Nhxcvy3x",
      "execution_count": null,
      "outputs": []
    },
    {
      "cell_type": "code",
      "source": [
        "print(\"DTP\\tFrames num\\tTrueDTP\\tvideoLabel\")\n",
        "for i, k in zip(range(0, 10), val_pred_frame.keys()):\n",
        "  print(f'{sum(val_pred_frame[k])}\\t{len(val_pred_frame[k])}\\t\\\n",
        "          {sum(val_pred_frame_true[k])}\\t{data.loc[int(k)].Label}')"
      ],
      "metadata": {
        "colab": {
          "base_uri": "https://localhost:8080/"
        },
        "id": "DYRMVMadxtju",
        "outputId": "2cb04b44-882c-407b-95ad-5d2b2b786f2d"
      },
      "id": "DYRMVMadxtju",
      "execution_count": null,
      "outputs": [
        {
          "output_type": "stream",
          "name": "stdout",
          "text": [
            "DTP\tFrames num\tTrueDTP\tvideoLabel\n",
            "212.0\t212\t          208\t1\n",
            "177.0\t240\t          237\t1\n",
            "0.0\t166\t          0\t0\n",
            "41.0\t225\t          0\t0\n",
            "0.0\t192\t          0\t0\n"
          ]
        }
      ]
    },
    {
      "cell_type": "code",
      "source": [
        "print(\"DTP\\tFrames num\\tTrueDTP\\tvideoLabel\")\n",
        "for i, k in zip(range(0, 400), train_pred_frame.keys()):\n",
        "  print(f'{sum(train_pred_frame[k])}\\t{len(train_pred_frame[k])}\\t\\\n",
        "          {sum(train_pred_frame_true[k])}\\t{data.loc[int(k)].Label}')"
      ],
      "metadata": {
        "colab": {
          "base_uri": "https://localhost:8080/"
        },
        "id": "V2Nt5s3Vyxhw",
        "outputId": "33e2279d-1540-4c7a-a8ea-89ffb8e6bd03"
      },
      "id": "V2Nt5s3Vyxhw",
      "execution_count": null,
      "outputs": [
        {
          "output_type": "stream",
          "name": "stdout",
          "text": [
            "DTP\tFrames num\tTrueDTP\tvideoLabel\n",
            "0.0\t166\t          0\t0\n",
            "234.0\t234\t          230\t1\n",
            "0.0\t162\t          0\t0\n",
            "187.0\t187\t          182\t1\n",
            "0.0\t157\t          0\t0\n",
            "0.0\t152\t          0\t0\n",
            "315.0\t315\t          315\t1\n",
            "0.0\t154\t          0\t0\n",
            "165.0\t165\t          157\t1\n",
            "0.0\t158\t          0\t0\n",
            "0.0\t167\t          0\t0\n",
            "0.0\t155\t          0\t0\n",
            "0.0\t180\t          0\t0\n",
            "204.0\t204\t          199\t1\n",
            "0.0\t165\t          0\t0\n",
            "194.0\t194\t          191\t1\n",
            "0.0\t158\t          0\t0\n",
            "5.0\t159\t          0\t0\n",
            "1.0\t162\t          0\t0\n",
            "6.0\t176\t          0\t0\n",
            "2.0\t152\t          0\t0\n",
            "1.0\t141\t          0\t0\n",
            "355.0\t355\t          346\t1\n",
            "103.0\t103\t          97\t1\n",
            "1.0\t190\t          0\t0\n",
            "0.0\t165\t          0\t0\n",
            "350.0\t350\t          350\t1\n",
            "142.0\t142\t          134\t1\n",
            "2.0\t149\t          0\t0\n",
            "5.0\t86\t          0\t0\n",
            "0.0\t163\t          0\t0\n",
            "80.0\t80\t          76\t1\n",
            "777.0\t777\t          777\t1\n",
            "233.0\t233\t          228\t1\n",
            "3.0\t161\t          0\t0\n",
            "309.0\t309\t          306\t1\n",
            "4.0\t166\t          0\t0\n",
            "0.0\t160\t          0\t0\n",
            "167.0\t167\t          167\t1\n",
            "200.0\t200\t          194\t1\n"
          ]
        }
      ]
    },
    {
      "cell_type": "code",
      "source": [
        ""
      ],
      "metadata": {
        "id": "6d8jF4kzEfs2"
      },
      "id": "6d8jF4kzEfs2",
      "execution_count": null,
      "outputs": []
    }
  ],
  "metadata": {
    "kernelspec": {
      "display_name": "Python 3 (ipykernel)",
      "language": "python",
      "name": "python3"
    },
    "language_info": {
      "codemirror_mode": {
        "name": "ipython",
        "version": 3
      },
      "file_extension": ".py",
      "mimetype": "text/x-python",
      "name": "python",
      "nbconvert_exporter": "python",
      "pygments_lexer": "ipython3",
      "version": "3.7.11"
    },
    "colab": {
      "name": "sandbox_fited.ipynb",
      "provenance": [],
      "collapsed_sections": []
    },
    "accelerator": "GPU"
  },
  "nbformat": 4,
  "nbformat_minor": 5
}